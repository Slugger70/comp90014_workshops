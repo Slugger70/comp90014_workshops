{
 "metadata": {
  "name": "",
  "signature": "sha256:e64b84f58ba186432f79e1cf495edaf41371b325f8031bb20677a1c6292242ac"
 },
 "nbformat": 3,
 "nbformat_minor": 0,
 "worksheets": [
  {
   "cells": [
    {
     "cell_type": "heading",
     "level": 1,
     "metadata": {},
     "source": [
      "P-values from first principles"
     ]
    },
    {
     "cell_type": "markdown",
     "metadata": {},
     "source": [
      "If you want the IPython Notebook file to import and play with yourself, you can clone this repository, or simply download it [here](P-values.ipynb)."
     ]
    },
    {
     "cell_type": "code",
     "collapsed": false,
     "input": [
      "%pylab inline --no-import-all"
     ],
     "language": "python",
     "metadata": {},
     "outputs": [
      {
       "output_type": "stream",
       "stream": "stdout",
       "text": [
        "Populating the interactive namespace from numpy and matplotlib\n"
       ]
      }
     ],
     "prompt_number": 1
    },
    {
     "cell_type": "code",
     "collapsed": false,
     "input": [
      "import scipy.stats as stats"
     ],
     "language": "python",
     "metadata": {},
     "outputs": [],
     "prompt_number": 2
    },
    {
     "cell_type": "markdown",
     "metadata": {},
     "source": [
      "P-value: probability of seeing this data (or more unlikely data) under the null hypothesis $H_0$."
     ]
    },
    {
     "cell_type": "markdown",
     "metadata": {},
     "source": [
      "e.g. let's generate some numbers from the uniform distribution (values evenly spread between 0 and 1)."
     ]
    },
    {
     "cell_type": "code",
     "collapsed": false,
     "input": [
      "# This is a convenience function to generate N random uniform numbers\n",
      "# In R, a similar function is runif()  (meaning random-uniform)\n",
      "uniform_vals = np.random.random(1000)"
     ],
     "language": "python",
     "metadata": {},
     "outputs": [],
     "prompt_number": 3
    },
    {
     "cell_type": "code",
     "collapsed": false,
     "input": [
      "print uniform_vals[:20]"
     ],
     "language": "python",
     "metadata": {},
     "outputs": [
      {
       "output_type": "stream",
       "stream": "stdout",
       "text": [
        "[ 0.46749401  0.00782041  0.10719128  0.46456196  0.8115236   0.84589867\n",
        "  0.40645436  0.17755792  0.54404697  0.70684692  0.6035145   0.81450095\n",
        "  0.53516955  0.67423463  0.39412221  0.2610857   0.76102139  0.38422621\n",
        "  0.38138805  0.44271186]\n"
       ]
      }
     ],
     "prompt_number": 4
    },
    {
     "cell_type": "code",
     "collapsed": false,
     "input": [
      "plt.hist(uniform_vals)"
     ],
     "language": "python",
     "metadata": {},
     "outputs": [
      {
       "metadata": {},
       "output_type": "pyout",
       "prompt_number": 5,
       "text": [
        "(array([  95.,   95.,   89.,  114.,  114.,   95.,  109.,   93.,  109.,   87.]),\n",
        " array([ 0.00700185,  0.10625759,  0.20551333,  0.30476907,  0.40402481,\n",
        "         0.50328055,  0.60253629,  0.70179203,  0.80104776,  0.9003035 ,\n",
        "         0.99955924]),\n",
        " <a list of 10 Patch objects>)"
       ]
      },
      {
       "metadata": {},
       "output_type": "display_data",
       "png": "[encoded data removed]",
       "text": [
        "<matplotlib.figure.Figure at 0x1073191d0>"
       ]
      }
     ],
     "prompt_number": 5
    },
    {
     "cell_type": "markdown",
     "metadata": {},
     "source": [
      "The uniform distribution is very simple!\n",
      "\n",
      "The probability of seeing a value of 0.5 or lower is 0.5\n",
      "\n",
      "The probability of seeing a value of 0.1 or lower is 0.1\n",
      "\n",
      "and so on.\n",
      "\n",
      "It's not clear what \"more extreme\" means for the uniform distribution, but if we take it to mean unexpectedly small, i.e \"further from 1\", then the P-value of each $x$ is just the number itself, $P = x$."
     ]
    },
    {
     "cell_type": "markdown",
     "metadata": {},
     "source": [
      "The uniform distribution is simple, but not realistic in many circumstances. Let's generate some numbers from the normal distribution."
     ]
    },
    {
     "cell_type": "code",
     "collapsed": false,
     "input": [
      "# The default is a mean of 0 and a standard deviation of 1\n",
      "# In R, a similar function is rnorm()\n",
      "gaussian_vals = np.random.randn(1000)"
     ],
     "language": "python",
     "metadata": {},
     "outputs": [],
     "prompt_number": 6
    },
    {
     "cell_type": "code",
     "collapsed": false,
     "input": [
      "print gaussian_vals[:20]"
     ],
     "language": "python",
     "metadata": {},
     "outputs": [
      {
       "output_type": "stream",
       "stream": "stdout",
       "text": [
        "[-0.60638928  2.43592053 -0.19088912  1.14662601 -1.58396479  0.84917674\n",
        " -1.47804684  0.11132701  0.13800276 -0.34147268 -0.45741631 -1.42216419\n",
        "  0.346745    1.40887289 -1.45629277  1.40101611 -1.10313758 -1.07249947\n",
        " -0.37972427  0.37465963]\n"
       ]
      }
     ],
     "prompt_number": 7
    },
    {
     "cell_type": "code",
     "collapsed": false,
     "input": [
      "plt.hist(gaussian_vals)"
     ],
     "language": "python",
     "metadata": {},
     "outputs": [
      {
       "metadata": {},
       "output_type": "pyout",
       "prompt_number": 8,
       "text": [
        "(array([   6.,   28.,  124.,  186.,  280.,  220.,  111.,   39.,    5.,    1.]),\n",
        " array([-3.12698216, -2.43729769, -1.74761322, -1.05792874, -0.36824427,\n",
        "         0.3214402 ,  1.01112467,  1.70080915,  2.39049362,  3.08017809,\n",
        "         3.76986257]),\n",
        " <a list of 10 Patch objects>)"
       ]
      },
      {
       "metadata": {},
       "output_type": "display_data",
       "png": "[encoded data removed]",
       "text": [
        "<matplotlib.figure.Figure at 0x1074efb10>"
       ]
      }
     ],
     "prompt_number": 8
    },
    {
     "cell_type": "markdown",
     "metadata": {},
     "source": [
      "You can see from the above that the probability of seeing a value of 0 or lower is 0.5. \n",
      "\n",
      "We need to know the probability of seeing any particular value. In particular, the P-value is defined as \"the probability of seeing this value or a more unlikely value\". \n",
      "\n",
      "i.e. (courtesy of Wikipedia):\n",
      "\n",
      "<img src=\"http://upload.wikimedia.org/wikipedia/en/0/00/P-value_Graph.png\">"
     ]
    },
    {
     "cell_type": "markdown",
     "metadata": {},
     "source": [
      "The probability of seeing a particular value from the normal distribution can be calculated using the formula for the normal distribution (the Gaussian formula). In a language with stats packages, this will already be implemented for us. Let's take a value of -2 . What's the probability of seeing $x = -2$ ? What's the probability of seeing -2 or a more extreme value, i.e. $x \\le -2$ ? \n",
      "\n",
      "This second probability is the definition of the P-value (actually, the one-tailed P-value)."
     ]
    },
    {
     "cell_type": "code",
     "collapsed": false,
     "input": [
      "# Probability of x = -2 . PDF stands for probability density function. \n",
      "# In R, this function is dnorm()\n",
      "print stats.norm.pdf(-2)"
     ],
     "language": "python",
     "metadata": {},
     "outputs": [
      {
       "output_type": "stream",
       "stream": "stdout",
       "text": [
        "0.0539909665132\n"
       ]
      }
     ],
     "prompt_number": 9
    },
    {
     "cell_type": "code",
     "collapsed": false,
     "input": [
      "# As we'd expect, the height of the probability density function is the same for 2 and -2\n",
      "print stats.norm.pdf(2)"
     ],
     "language": "python",
     "metadata": {},
     "outputs": [
      {
       "output_type": "stream",
       "stream": "stdout",
       "text": [
        "0.0539909665132\n"
       ]
      }
     ],
     "prompt_number": 10
    },
    {
     "cell_type": "code",
     "collapsed": false,
     "input": [
      "# By the way, we'd expect the probability of seeing zero to be much higher:\n",
      "print stats.norm.pdf(0)"
     ],
     "language": "python",
     "metadata": {},
     "outputs": [
      {
       "output_type": "stream",
       "stream": "stdout",
       "text": [
        "0.398942280401\n"
       ]
      }
     ],
     "prompt_number": 11
    },
    {
     "cell_type": "code",
     "collapsed": false,
     "input": [
      "# The probability of x <= -2 is given by the CUMULATIVE probability function (CDF)\n",
      "# This is the probability sum over all lower x values. \n",
      "# In this case, it's our P-value!\n",
      "# In R, this function is pnorm()\n",
      "print stats.norm.cdf(-2)"
     ],
     "language": "python",
     "metadata": {},
     "outputs": [
      {
       "output_type": "stream",
       "stream": "stdout",
       "text": [
        "0.0227501319482\n"
       ]
      }
     ],
     "prompt_number": 12
    },
    {
     "cell_type": "code",
     "collapsed": false,
     "input": [
      "# Notice that this isn't the same for 2 as for -2, because it sums over all lower values\n",
      "print stats.norm.cdf(2)\n",
      "# To get the P-value we'd actually want to sum over all more HIGHER values, ie more extreme than +2\n",
      "# So we want 1 - CDF(2), which will give the same as CDF(-2):\n",
      "print 1 - stats.norm.cdf(2)"
     ],
     "language": "python",
     "metadata": {},
     "outputs": [
      {
       "output_type": "stream",
       "stream": "stdout",
       "text": [
        "0.977249868052\n",
        "0.0227501319482\n"
       ]
      }
     ],
     "prompt_number": 13
    },
    {
     "cell_type": "code",
     "collapsed": false,
     "input": [
      "# As we'd expect, the probability of getting zero or less is 0.5\n",
      "print stats.norm.cdf(0)"
     ],
     "language": "python",
     "metadata": {},
     "outputs": [
      {
       "output_type": "stream",
       "stream": "stdout",
       "text": [
        "0.5\n"
       ]
      }
     ],
     "prompt_number": 14
    },
    {
     "cell_type": "markdown",
     "metadata": {},
     "source": [
      "If we're using the one-tailed P-value, it's because we think that unexpected things can only happen in one direction - we don't expect values on the other side of the curve. \n",
      "\n",
      "Actually, we'd often like the \"two-tailed\" P-value: the probability of seeing a value more extreme than x. So if $x=2$, the probability of seeing $x \\ge 2$ OR $x \\le -2$. This is just the sum of the two cumulative probabilities."
     ]
    },
    {
     "cell_type": "code",
     "collapsed": false,
     "input": [
      "# P-value of x=2 under the normal(mean=0, sigma=1) distribution\n",
      "print stats.norm.cdf(-2) + (1 - stats.norm.cdf(2))"
     ],
     "language": "python",
     "metadata": {},
     "outputs": [
      {
       "output_type": "stream",
       "stream": "stdout",
       "text": [
        "0.0455002638964\n"
       ]
      }
     ],
     "prompt_number": 15
    },
    {
     "cell_type": "markdown",
     "metadata": {},
     "source": [
      "By definition, the probability of seeing zero or a value more extreme than zero is 1. Zero is in the middle, so all values are more extreme than zero!"
     ]
    },
    {
     "cell_type": "code",
     "collapsed": false,
     "input": [
      "print stats.norm.cdf(0) + (1 - stats.norm.cdf(0))"
     ],
     "language": "python",
     "metadata": {},
     "outputs": [
      {
       "output_type": "stream",
       "stream": "stdout",
       "text": [
        "1.0\n"
       ]
      }
     ],
     "prompt_number": 16
    },
    {
     "cell_type": "markdown",
     "metadata": {},
     "source": [
      "Let's get the P-values for all our random numbers:"
     ]
    },
    {
     "cell_type": "code",
     "collapsed": false,
     "input": [
      "def gaussian_p_value(x):\n",
      "    \"\"\"\n",
      "    Return the probability of seeing x or a more extreme value.\n",
      "    The null hypothesis here is a normal distribution with mean 0, stdev 1.\n",
      "    \"\"\"\n",
      "    # abs gives the absolute value\n",
      "    p = stats.norm.cdf(-abs(x)) + (1 - stats.norm.cdf(abs(x)))\n",
      "    return p"
     ],
     "language": "python",
     "metadata": {},
     "outputs": [],
     "prompt_number": 17
    },
    {
     "cell_type": "code",
     "collapsed": false,
     "input": [
      "null_Pvalues = [gaussian_p_value(x) for x in gaussian_vals]"
     ],
     "language": "python",
     "metadata": {},
     "outputs": [],
     "prompt_number": 18
    },
    {
     "cell_type": "code",
     "collapsed": false,
     "input": [
      "print null_Pvalues[:20]"
     ],
     "language": "python",
     "metadata": {},
     "outputs": [
      {
       "output_type": "stream",
       "stream": "stdout",
       "text": [
        "[0.54425628750061716, 0.014853947499952905, 0.84861246778885491, 0.25153622092909883, 0.11320173202937718, 0.39578295272423208, 0.13939524076092269, 0.91135703986474059, 0.8902382351725735, 0.73274776812179354, 0.64737183989590608, 0.15497859155507923, 0.72878290358476394, 0.15887275715186711, 0.14531170258662351, 0.16120925558352622, 0.26996742184722183, 0.28349575258286569, 0.70415009877271273, 0.70791362242359934]\n"
       ]
      }
     ],
     "prompt_number": 19
    },
    {
     "cell_type": "code",
     "collapsed": false,
     "input": [
      "plt.hist(null_Pvalues)"
     ],
     "language": "python",
     "metadata": {},
     "outputs": [
      {
       "metadata": {},
       "output_type": "pyout",
       "prompt_number": 20,
       "text": [
        "(array([  97.,  123.,   95.,  105.,   86.,   89.,   90.,  109.,  109.,   97.]),\n",
        " array([  1.63337468e-04,   1.00063396e-01,   1.99963455e-01,\n",
        "          2.99863514e-01,   3.99763572e-01,   4.99663631e-01,\n",
        "          5.99563690e-01,   6.99463749e-01,   7.99363807e-01,\n",
        "          8.99263866e-01,   9.99163925e-01]),\n",
        " <a list of 10 Patch objects>)"
       ]
      },
      {
       "metadata": {},
       "output_type": "display_data",
       "png": "[encoded data removed]",
       "text": [
        "<matplotlib.figure.Figure at 0x1076ef090>"
       ]
      }
     ],
     "prompt_number": 20
    },
    {
     "cell_type": "markdown",
     "metadata": {},
     "source": [
      "The histogram of P-values is pretty much uniform. This makes sense: the P-value is the probability of seeing this data (or worse) under the null hypothesis. The probability of getting a P-value less than 0.5 is 0.5 by definition. The probability of getting a P-value less than 0.2 is 0.2. And so on."
     ]
    },
    {
     "cell_type": "markdown",
     "metadata": {},
     "source": [
      "This happened because our null hypothesis was that our numbers came from a normal distribution with mean zero and standard deviation 1. And they did! We used the same distribution to generate the numbers as to calculate the P-values, so we ended up back at a uniform distribution.\n",
      "\n",
      "What if our null hypothesis is not true? Let's generate some numbers from a normal distribution where the mean is 1.5 instead of zero."
     ]
    },
    {
     "cell_type": "code",
     "collapsed": false,
     "input": [
      "# Generate numbers then add 1.5 to every random number.\n",
      "# Like Python's numpy, R is vectorised,\n",
      "# so rnorm(1000)+1.5 will do something similar to this\n",
      "new_gaussian_values = np.random.randn(1000) + 1.5"
     ],
     "language": "python",
     "metadata": {},
     "outputs": [],
     "prompt_number": 21
    },
    {
     "cell_type": "code",
     "collapsed": false,
     "input": [
      "print new_gaussian_values[:20]"
     ],
     "language": "python",
     "metadata": {},
     "outputs": [
      {
       "output_type": "stream",
       "stream": "stdout",
       "text": [
        "[ 2.29367119  1.35163175  2.34074146  2.01549013  0.01536967  0.98087648\n",
        "  2.24328667  2.05715292  1.75157813  0.32001764  2.11385638  0.44617341\n",
        "  2.14029065  0.70193088  2.60351097  2.34190954  1.70417398  1.10338651\n",
        "  2.33738554  1.44242493]\n"
       ]
      }
     ],
     "prompt_number": 22
    },
    {
     "cell_type": "code",
     "collapsed": false,
     "input": [
      "plt.hist(new_gaussian_values)"
     ],
     "language": "python",
     "metadata": {},
     "outputs": [
      {
       "metadata": {},
       "output_type": "pyout",
       "prompt_number": 23,
       "text": [
        "(array([   1.,    6.,   23.,   83.,  213.,  280.,  245.,  113.,   29.,    7.]),\n",
        " array([-2.48153466, -1.76276439, -1.04399412, -0.32522385,  0.39354642,\n",
        "         1.1123167 ,  1.83108697,  2.54985724,  3.26862751,  3.98739778,\n",
        "         4.70616805]),\n",
        " <a list of 10 Patch objects>)"
       ]
      },
      {
       "metadata": {},
       "output_type": "display_data",
       "png": "[encoded data removed]",
       "text": [
        "<matplotlib.figure.Figure at 0x107832ed0>"
       ]
      }
     ],
     "prompt_number": 23
    },
    {
     "cell_type": "markdown",
     "metadata": {},
     "source": [
      "Notice the x axis!"
     ]
    },
    {
     "cell_type": "markdown",
     "metadata": {},
     "source": [
      "If this were an experiment, we might not know what the experimental mean value is. We'd just like to calculate the P-values based on our null hypothesis that the mean is zero. So we'll just use our default CDF function, which assumes a mean of zero:"
     ]
    },
    {
     "cell_type": "code",
     "collapsed": false,
     "input": [
      "new_Pvalues = [gaussian_p_value(x) for x in new_gaussian_values]"
     ],
     "language": "python",
     "metadata": {},
     "outputs": [],
     "prompt_number": 24
    },
    {
     "cell_type": "code",
     "collapsed": false,
     "input": [
      "plt.hist(new_Pvalues)"
     ],
     "language": "python",
     "metadata": {},
     "outputs": [
      {
       "metadata": {},
       "output_type": "pyout",
       "prompt_number": 25,
       "text": [
        "(array([ 463.,  142.,   94.,   75.,   56.,   47.,   33.,   26.,   23.,   41.]),\n",
        " array([  2.52416460e-06,   9.89807515e-02,   1.97958979e-01,\n",
        "          2.96937206e-01,   3.95915433e-01,   4.94893661e-01,\n",
        "          5.93871888e-01,   6.92850115e-01,   7.91828343e-01,\n",
        "          8.90806570e-01,   9.89784797e-01]),\n",
        " <a list of 10 Patch objects>)"
       ]
      },
      {
       "metadata": {},
       "output_type": "display_data",
       "png": "[encoded data removed]",
       "text": [
        "<matplotlib.figure.Figure at 0x1076e6f10>"
       ]
      }
     ],
     "prompt_number": 25
    },
    {
     "cell_type": "markdown",
     "metadata": {},
     "source": [
      "The values that lie inside the expected, zero-mean curve have high P-values. But the values much further to the right than expected end up with low P-values. \n",
      "\n",
      "Below, the red line shows the data we expected to get, and the histogram shows the data we actually got. The \"unlikeliness\" of the values on the right corresponds to the extra, small P-values."
     ]
    },
    {
     "cell_type": "code",
     "collapsed": false,
     "input": [
      "# Normalisation here hasn't been calculated properly \n",
      "# - just done to be easy to see\n",
      "#plt.hist(gaussian_vals, alpha=0.5)\n",
      "plt.hist(new_gaussian_values)\n",
      "plt.plot(np.linspace(-5,5),700*stats.norm.pdf(np.linspace(-5,5)), c='red')\n",
      "plt.legend([\"Null hypothesis\",\"Observed data\"])\n",
      "plt.ylim(0,350)\n",
      "plt.show()"
     ],
     "language": "python",
     "metadata": {},
     "outputs": [
      {
       "metadata": {},
       "output_type": "display_data",
       "png": "[encoded data removed]",
       "text": [
        "<matplotlib.figure.Figure at 0x107a37350>"
       ]
      }
     ],
     "prompt_number": 26
    },
    {
     "cell_type": "markdown",
     "metadata": {},
     "source": [
      "There are a lot of small P-values. This is because we did 1000 tests. If we take a cutoff of 0.05 or 0.01, then even on our uniform-looking plot where the null hypothesis was true, we got 50 or 10 \"significant\" results.\n",
      "\n",
      "Multiple hypothesis correction involves multiplying each P-value by some amount so that there is less chance any given P-value will be below the threshold. The simplest (overly conservative) method is to multiply by the number of tests:"
     ]
    },
    {
     "cell_type": "code",
     "collapsed": false,
     "input": [
      "corrected_P_values = [1000*p for p in new_Pvalues]"
     ],
     "language": "python",
     "metadata": {},
     "outputs": [],
     "prompt_number": 27
    },
    {
     "cell_type": "code",
     "collapsed": false,
     "input": [
      "plt.hist(corrected_P_values)"
     ],
     "language": "python",
     "metadata": {},
     "outputs": [
      {
       "metadata": {},
       "output_type": "pyout",
       "prompt_number": 28,
       "text": [
        "(array([ 463.,  142.,   94.,   75.,   56.,   47.,   33.,   26.,   23.,   41.]),\n",
        " array([  2.52416460e-03,   9.89807515e+01,   1.97958979e+02,\n",
        "          2.96937206e+02,   3.95915433e+02,   4.94893661e+02,\n",
        "          5.93871888e+02,   6.92850115e+02,   7.91828343e+02,\n",
        "          8.90806570e+02,   9.89784797e+02]),\n",
        " <a list of 10 Patch objects>)"
       ]
      },
      {
       "metadata": {},
       "output_type": "display_data",
       "png": "[encoded data removed]",
       "text": [
        "<matplotlib.figure.Figure at 0x107a40090>"
       ]
      }
     ],
     "prompt_number": 28
    },
    {
     "cell_type": "markdown",
     "metadata": {},
     "source": [
      "But these values go up to 1000. Probabilities can't be more than 1. Let's just look from 0 to 1:"
     ]
    },
    {
     "cell_type": "code",
     "collapsed": false,
     "input": [
      "plt.hist([p for p in corrected_P_values if p<=1], bins=8)"
     ],
     "language": "python",
     "metadata": {},
     "outputs": [
      {
       "metadata": {},
       "output_type": "pyout",
       "prompt_number": 29,
       "text": [
        "(array([ 12.,   3.,   4.,   3.,   4.,   3.,   2.,   5.]),\n",
        " array([ 0.00252416,  0.1173486 ,  0.23217305,  0.34699749,  0.46182193,\n",
        "         0.57664637,  0.69147081,  0.80629525,  0.92111969]),\n",
        " <a list of 8 Patch objects>)"
       ]
      },
      {
       "metadata": {},
       "output_type": "display_data",
       "png": "[encoded data removed]",
       "text": [
        "<matplotlib.figure.Figure at 0x107868750>"
       ]
      }
     ],
     "prompt_number": 29
    },
    {
     "cell_type": "markdown",
     "metadata": {},
     "source": [
      "There's still (probably) a spike, but it's less extreme."
     ]
    },
    {
     "cell_type": "markdown",
     "metadata": {},
     "source": [
      "If our method of correcting P-values is to cap probabilities at 1, then over-correction will give a lot of values at 1. In this case, so big that we can't really see anything else."
     ]
    },
    {
     "cell_type": "code",
     "collapsed": false,
     "input": [
      "capped_corrected_Pvalues = [min(1,p) for p in corrected_P_values]\n",
      "plt.hist(capped_corrected_Pvalues, bins=100)"
     ],
     "language": "python",
     "metadata": {},
     "outputs": [
      {
       "metadata": {},
       "output_type": "pyout",
       "prompt_number": 30,
       "text": [
        "(array([   1.,    2.,    1.,    1.,    1.,    1.,    1.,    1.,    0.,\n",
        "           2.,    0.,    1.,    0.,    0.,    0.,    0.,    0.,    0.,\n",
        "           0.,    1.,    1.,    0.,    1.,    0.,    0.,    0.,    1.,\n",
        "           0.,    0.,    0.,    1.,    2.,    0.,    0.,    1.,    0.,\n",
        "           0.,    0.,    0.,    0.,    0.,    0.,    0.,    0.,    0.,\n",
        "           2.,    2.,    0.,    0.,    0.,    0.,    1.,    0.,    0.,\n",
        "           0.,    0.,    1.,    0.,    0.,    0.,    0.,    1.,    0.,\n",
        "           1.,    0.,    0.,    0.,    1.,    0.,    0.,    0.,    0.,\n",
        "           0.,    0.,    1.,    0.,    0.,    0.,    0.,    0.,    1.,\n",
        "           0.,    2.,    0.,    0.,    0.,    0.,    0.,    0.,    2.,\n",
        "           0.,    0.,    1.,    0.,    0.,    0.,    0.,    0.,    0.,  964.]),\n",
        " array([ 0.00252416,  0.01249892,  0.02247368,  0.03244844,  0.0424232 ,\n",
        "         0.05239796,  0.06237271,  0.07234747,  0.08232223,  0.09229699,\n",
        "         0.10227175,  0.11224651,  0.12222126,  0.13219602,  0.14217078,\n",
        "         0.15214554,  0.1621203 ,  0.17209506,  0.18206981,  0.19204457,\n",
        "         0.20201933,  0.21199409,  0.22196885,  0.23194361,  0.24191837,\n",
        "         0.25189312,  0.26186788,  0.27184264,  0.2818174 ,  0.29179216,\n",
        "         0.30176692,  0.31174167,  0.32171643,  0.33169119,  0.34166595,\n",
        "         0.35164071,  0.36161547,  0.37159022,  0.38156498,  0.39153974,\n",
        "         0.4015145 ,  0.41148926,  0.42146402,  0.43143877,  0.44141353,\n",
        "         0.45138829,  0.46136305,  0.47133781,  0.48131257,  0.49128732,\n",
        "         0.50126208,  0.51123684,  0.5212116 ,  0.53118636,  0.54116112,\n",
        "         0.55113587,  0.56111063,  0.57108539,  0.58106015,  0.59103491,\n",
        "         0.60100967,  0.61098442,  0.62095918,  0.63093394,  0.6409087 ,\n",
        "         0.65088346,  0.66085822,  0.67083297,  0.68080773,  0.69078249,\n",
        "         0.70075725,  0.71073201,  0.72070677,  0.73068152,  0.74065628,\n",
        "         0.75063104,  0.7606058 ,  0.77058056,  0.78055532,  0.79053007,\n",
        "         0.80050483,  0.81047959,  0.82045435,  0.83042911,  0.84040387,\n",
        "         0.85037862,  0.86035338,  0.87032814,  0.8803029 ,  0.89027766,\n",
        "         0.90025242,  0.91022717,  0.92020193,  0.93017669,  0.94015145,\n",
        "         0.95012621,  0.96010097,  0.97007572,  0.98005048,  0.99002524,  1.        ]),\n",
        " <a list of 100 Patch objects>)"
       ]
      },
      {
       "metadata": {},
       "output_type": "display_data",
       "png": "[encoded data removed]",
       "text": [
        "<matplotlib.figure.Figure at 0x1080b6e50>"
       ]
      }
     ],
     "prompt_number": 30
    },
    {
     "cell_type": "markdown",
     "metadata": {},
     "source": [
      "Note that getting low P-values means that the null hypothesis might not be true, but it doesn't mean that the alternative hypothesis must be true. In the above example we could get low P-values if:\n",
      "\n",
      "- the mean of the real distribution isn't 0 (this is what we thought we were testing for)\n",
      "- the standard deviation of the real distribution isn't 1 (see t-tests, below)\n",
      "- the distribution isn't normal at all, but some other function\n",
      "- the data comes from a couple of different distributions (e.g. two populations)\n",
      "- everything was consistent with $H_0$, but we were unlucky (and had a small sample size)\n",
      "\n",
      "If we don't get our null hypothesis right, then even random data will look significant."
     ]
    },
    {
     "cell_type": "markdown",
     "metadata": {},
     "source": [
      "For instance, let's try using our (gaussian) function to calculate P-values for the original values that come from a uniform distribution. We'll use a distribution from -2 to 2."
     ]
    },
    {
     "cell_type": "code",
     "collapsed": false,
     "input": [
      "wide_uniform_vals = np.random.random(1000)*4 - 2"
     ],
     "language": "python",
     "metadata": {},
     "outputs": [],
     "prompt_number": 31
    },
    {
     "cell_type": "code",
     "collapsed": false,
     "input": [
      "plt.hist(wide_uniform_vals)\n",
      "plt.plot(np.linspace(-5,5),400*stats.norm.pdf(np.linspace(-5,5)), c='red')\n",
      "plt.legend([\"Null hypothesis\",\"Observed data\"])\n",
      "plt.show()"
     ],
     "language": "python",
     "metadata": {},
     "outputs": [
      {
       "metadata": {},
       "output_type": "display_data",
       "png": "[encoded data removed]",
       "text": [
        "<matplotlib.figure.Figure at 0x1080bbad0>"
       ]
      }
     ],
     "prompt_number": 32
    },
    {
     "cell_type": "code",
     "collapsed": false,
     "input": [
      "wrong_distribution_Pvalues = [gaussian_p_value(x) for x in wide_uniform_vals]"
     ],
     "language": "python",
     "metadata": {},
     "outputs": [],
     "prompt_number": 33
    },
    {
     "cell_type": "code",
     "collapsed": false,
     "input": [
      "plt.hist(wrong_distribution_Pvalues)\n",
      "plt.xlim(0,1)"
     ],
     "language": "python",
     "metadata": {},
     "outputs": [
      {
       "metadata": {},
       "output_type": "pyout",
       "prompt_number": 34,
       "text": [
        "(0, 1)"
       ]
      },
      {
       "metadata": {},
       "output_type": "display_data",
       "png": "[encoded data removed]",
       "text": [
        "<matplotlib.figure.Figure at 0x10822f850>"
       ]
      }
     ],
     "prompt_number": 34
    },
    {
     "cell_type": "markdown",
     "metadata": {},
     "source": [
      "So because we had the wrong null hypothesis, there is an \"unexpected\" lack of extremely low P-values, and extra \"unexpected\" moderately-low P-values. The low P-values could easily be mistaken for a significance spike."
     ]
    },
    {
     "cell_type": "markdown",
     "metadata": {},
     "source": [
      "This was a very extreme example of a wrong distribution, but in real life, it could easily be important to distinguish between null distributions where the data could look superficially similar, such as normal, poisson, and negative binomial."
     ]
    },
    {
     "cell_type": "markdown",
     "metadata": {},
     "source": [
      "Note we use a t-test to test for differences in means when we think the distribution is normal. The t-test actually uses the \"Student's t distribution\". This takes into account the fact that we don't know the variance of the null distribution - it is equivalent to trying to estimate the expected variance of the distribution from the data itself, before comparing the data to a null hypothesis with mean 0. The more data we have, the better we can estimate the true null variance, and the closer the t-distribution gets to the normal distribution."
     ]
    }
   ],
   "metadata": {}
  }
 ]
}